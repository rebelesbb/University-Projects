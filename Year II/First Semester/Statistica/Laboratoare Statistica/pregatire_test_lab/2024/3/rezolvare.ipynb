{
 "cells": [
  {
   "cell_type": "code",
   "id": "initial_id",
   "metadata": {
    "collapsed": true,
    "ExecuteTime": {
     "end_time": "2025-01-09T12:20:28.916356Z",
     "start_time": "2025-01-09T12:20:28.849915Z"
    }
   },
   "source": [
    "from numpy import random\n",
    "from math import comb\n",
    "from scipy.stats import hypergeom\n",
    "acumulatori = ['descarcat'] * 13 + ['incarcat'] * 7\n",
    "sample = []\n",
    "sample_size = 5000\n",
    "\n",
    "cnt_A = 0\n",
    "cnt_B = 0\n",
    "\n",
    "for _ in range(sample_size):\n",
    "    acumulatori_alesi = list(random.choice(acumulatori, size=4, replace=False))\n",
    "    sample.append(acumulatori_alesi)\n",
    "    if acumulatori_alesi.count('descarcat') == 1:\n",
    "        cnt_A += 1\n",
    "    if acumulatori_alesi.count('descarcat') == 0:\n",
    "        cnt_B += 1\n",
    "\n",
    "print('Estimari:')\n",
    "print(' P(A): ', cnt_A/sample_size)\n",
    "print(' P(B): ', cnt_B/sample_size)\n",
    "\n",
    "print('Teoretice:')\n",
    "probailitate_teoretica_A = (13 * comb(7, 3))/comb(20,4)\n",
    "probailitate_teoretica_B = comb(7, 4)/comb(20,4)\n",
    "print(' P(A): ', probailitate_teoretica_A)\n",
    "print(' P(B): ', probailitate_teoretica_B)\n",
    "print(hypergeom.pmf(1, 20, 13, 4))\n",
    "print(hypergeom.pmf(0, 20, 13, 4))\n"
   ],
   "outputs": [
    {
     "name": "stdout",
     "output_type": "stream",
     "text": [
      "Estimari:\n",
      " P(A):  0.0958\n",
      " P(B):  0.007\n",
      "Teoretice:\n",
      " P(A):  0.09391124871001032\n",
      " P(B):  0.007223942208462332\n",
      "0.09391124871001032\n",
      "0.007223942208462332\n"
     ]
    }
   ],
   "execution_count": 25
  },
  {
   "metadata": {
    "ExecuteTime": {
     "end_time": "2025-01-09T12:47:46.156196Z",
     "start_time": "2025-01-09T12:47:44.877328Z"
    }
   },
   "cell_type": "code",
   "source": [
    "from scipy.stats import norm\n",
    "\n",
    "m1 = -1\n",
    "m2 = 1\n",
    "s = 1\n",
    "\n",
    "sample = []\n",
    "sample_size = 10000\n",
    "\n",
    "for _ in range(sample_size):\n",
    "    numbers = []\n",
    "    numbers_to_generate = 5\n",
    "    for _ in range(numbers_to_generate):\n",
    "        number = norm.rvs(loc=m1, scale=s) + norm.rvs(loc=m2, scale=s)\n",
    "        numbers.append(number)  \n",
    "    sample.append(numbers)\n",
    "\n",
    "cnt_A = 0 \n",
    "cnt_B = 0\n",
    "for numbers in sample:\n",
    "    cnt_interval = 0\n",
    "    for number in numbers:\n",
    "        if -2 <= number <= 2:\n",
    "            cnt_interval += 1\n",
    "    \n",
    "    if cnt_interval >= 2:\n",
    "        cnt_A += 1\n",
    "    \n",
    "    if cnt_interval == 5:\n",
    "        cnt_B += 1\n",
    "    \n",
    "print('Estimari:')\n",
    "print(' P(A): ', cnt_A/sample_size)\n",
    "print(' P(B): ', cnt_B/sample_size)\n",
    "\n",
    "print('Teoretice:')\n",
    "probailitate_teoretica_B = (norm.cdf(2, loc=m1, scale=s) - norm.cdf(-2, loc=m1, scale=s)) * (norm.cdf(2, loc=m2, scale=s) - norm.cdf(-2, loc=m1, scale=s))\n",
    "print(' P(B): ', probailitate_teoretica_B)\n",
    "    "
   ],
   "id": "f5c3bfffc1a63f0c",
   "outputs": [
    {
     "name": "stdout",
     "output_type": "stream",
     "text": [
      "Estimari:\n",
      " P(A):  0.9975\n",
      " P(B):  0.427\n",
      "Teoretice:\n",
      " P(B):  -0.0\n"
     ]
    }
   ],
   "execution_count": 38
  },
  {
   "metadata": {},
   "cell_type": "code",
   "outputs": [],
   "execution_count": null,
   "source": "",
   "id": "2dccf27a12e575"
  }
 ],
 "metadata": {
  "kernelspec": {
   "display_name": "Python 3",
   "language": "python",
   "name": "python3"
  },
  "language_info": {
   "codemirror_mode": {
    "name": "ipython",
    "version": 2
   },
   "file_extension": ".py",
   "mimetype": "text/x-python",
   "name": "python",
   "nbconvert_exporter": "python",
   "pygments_lexer": "ipython2",
   "version": "2.7.6"
  }
 },
 "nbformat": 4,
 "nbformat_minor": 5
}
