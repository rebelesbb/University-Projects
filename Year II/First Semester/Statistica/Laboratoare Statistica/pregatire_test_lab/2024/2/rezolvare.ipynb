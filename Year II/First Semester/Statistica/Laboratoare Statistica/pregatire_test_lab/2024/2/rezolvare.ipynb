{
 "cells": [
  {
   "cell_type": "code",
   "id": "initial_id",
   "metadata": {
    "collapsed": true,
    "ExecuteTime": {
     "end_time": "2025-01-09T10:49:02.954849Z",
     "start_time": "2025-01-09T10:49:02.872134Z"
    }
   },
   "source": [
    "from numpy import random\n",
    "from math import comb\n",
    "\n",
    "urna = [1]*6 + [2]*3 + [3]*4\n",
    "\n",
    "sample = []\n",
    "sample_size = 10000\n",
    "\n",
    "# A: bilele au valori diferite\n",
    "# B: cel putin o bila are numarul 1\n",
    "# C: B | A <=> daca bilele extrase au valori diferite, cel putin 1 are numarul 1 <=> bilele extrase sunt diferite\n",
    "\n",
    "cnt_A = 0\n",
    "cnt_B = 0\n",
    "cnt_C = 0\n",
    "for _ in range(sample_size):\n",
    "    bile_extrase = list(random.choice(urna, size=3, replace=False))\n",
    "    sunt_diferite = True\n",
    "    \n",
    "    for bila in bile_extrase:\n",
    "        if bile_extrase.count(bila) > 1:\n",
    "            sunt_diferite = False\n",
    "            break\n",
    "    \n",
    "    if sunt_diferite:\n",
    "        cnt_A += 1\n",
    "        if bile_extrase.count(1) >= 1:\n",
    "            cnt_C += 1\n",
    "    \n",
    "    if bile_extrase.count(1) >= 1:\n",
    "        cnt_B += 1\n",
    "        \n",
    "print('Estimare P(A): ', cnt_A/sample_size)\n",
    "print('Estimare P(B): ', cnt_B/sample_size)\n",
    "print('Estimare P(C): ', cnt_C/sample_size)\n",
    "\n",
    "print('Probabilitati teoretice')\n",
    "# D: aceeasi valoare\n",
    "probabilitate_teoretica_A = 1 - (6 * 3 * 4 * 3)/comb(13,3)\n",
    "print('P(A): ', probabilitate_teoretica_A)\n",
    "probabilitate_teoretica_B = (6 * comb(7, 2) + comb(6,2) * 7 + comb(6,3))/comb(13,3)\n",
    "print('P(B): ', probabilitate_teoretica_B)\n",
    "probabilitate_teoretica_C = 1 - (6 * 3 * 4 * 3)/comb(13,3)\n",
    "print('P(C): ', probabilitate_teoretica_C)\n",
    "    "
   ],
   "outputs": [
    {
     "name": "stdout",
     "output_type": "stream",
     "text": [
      "Estimare P(A):  0.2497\n",
      "Estimare P(B):  0.8747\n",
      "Estimare P(C):  0.2497\n",
      "Probabilitati teoretice\n",
      "P(A):  0.2447552447552448\n",
      "P(B):  0.8776223776223776\n",
      "P(C):  0.2447552447552448\n"
     ]
    }
   ],
   "execution_count": 9
  },
  {
   "metadata": {
    "ExecuteTime": {
     "end_time": "2025-01-09T11:01:52.637107Z",
     "start_time": "2025-01-09T11:01:47.330078Z"
    }
   },
   "cell_type": "code",
   "source": [
    "from scipy.stats import geom\n",
    "from numpy import random\n",
    "\n",
    "zar = [1, 2, 3, 4, 5, 6]\n",
    "\n",
    "X = []\n",
    "sample_size = 100000\n",
    "\n",
    "for _ in range(sample_size):\n",
    "    zar1 = 0; zar2 = -1\n",
    "    aruncari = 0\n",
    "    while zar1 != zar2:\n",
    "        zar1 = random.choice(zar)\n",
    "        zar2 = random.choice(zar)\n",
    "        aruncari += 1\n",
    "    X.append(aruncari - 1)\n",
    "\n",
    "# A: X < 5\n",
    "# B: 7<= X <= 10\n",
    "\n",
    "cnt_A = 0\n",
    "cnt_B = 0\n",
    "\n",
    "for x in X:\n",
    "    if x < 5:\n",
    "        cnt_A += 1\n",
    "    if 7 <= x <= 10:\n",
    "        cnt_B += 1\n",
    "\n",
    "print('Estimare P(A): ', cnt_A/sample_size)\n",
    "print('Estimare P(B): ', cnt_B/sample_size)\n",
    "\n",
    "print('Probabilitati teoretice')\n",
    "# 1-1, 2-2, 3-3, 4-4, 5-5, 6-6 => 6/36 = 1/6\n",
    "prob = 1/6\n",
    "probabilitate_teoretica_A = geom.cdf(5, p=prob)\n",
    "probabilitate_teoretica_B = geom.cdf(10, p=prob) - geom.cdf(6, p=prob)\n",
    "print('P(A): ', probabilitate_teoretica_A)\n",
    "print('P(B): ', probabilitate_teoretica_B)\n"
   ],
   "id": "51629f24fa0d2c5f",
   "outputs": [
    {
     "name": "stdout",
     "output_type": "stream",
     "text": [
      "Estimare P(A):  0.59794\n",
      "Estimare P(B):  0.1445\n",
      "Probabilitati teoretice\n",
      "P(A):  0.5981224279835391\n",
      "P(B):  0.1733923937905384\n"
     ]
    }
   ],
   "execution_count": 23
  },
  {
   "metadata": {},
   "cell_type": "code",
   "outputs": [],
   "execution_count": null,
   "source": "",
   "id": "67fd4ae1a9ad9416"
  }
 ],
 "metadata": {
  "kernelspec": {
   "display_name": "Python 3",
   "language": "python",
   "name": "python3"
  },
  "language_info": {
   "codemirror_mode": {
    "name": "ipython",
    "version": 2
   },
   "file_extension": ".py",
   "mimetype": "text/x-python",
   "name": "python",
   "nbconvert_exporter": "python",
   "pygments_lexer": "ipython2",
   "version": "2.7.6"
  }
 },
 "nbformat": 4,
 "nbformat_minor": 5
}
