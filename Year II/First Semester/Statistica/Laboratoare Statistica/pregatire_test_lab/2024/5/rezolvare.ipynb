{
 "cells": [
  {
   "cell_type": "code",
   "id": "initial_id",
   "metadata": {
    "collapsed": true,
    "ExecuteTime": {
     "end_time": "2025-01-09T15:29:02.142774Z",
     "start_time": "2025-01-09T15:29:02.114909Z"
    }
   },
   "source": [
    "from scipy.stats import uniform\n",
    "from numpy import random, mean \n",
    "\n",
    "low = 1\n",
    "high = 2\n",
    "\n",
    "w = uniform.rvs(loc=low, scale=high-low, size=6)\n",
    "print(w)\n",
    "Y = []\n",
    "sample_size = 1000\n",
    "\n",
    "for _ in range(sample_size):\n",
    "    y = list(random.choice(w, size=3, replace=True))\n",
    "    Y.append(y)\n",
    "    \n",
    "medii_geometrice = []\n",
    "cnt = 0\n",
    "cnt_2 = 0\n",
    "for y in Y:\n",
    "    medii_geometrice.append((y[0] * y[1] * y[2])**(1/3))\n",
    "    if (y[0] + y[2])/2 > y[1]:\n",
    "        cnt += 1\n",
    "    apartin_interval = True\n",
    "    for num in y:\n",
    "        if not 1.2 <= num <= 1.6:\n",
    "            apartin_interval = False\n",
    "            break\n",
    "    if apartin_interval:\n",
    "        cnt_2 += 1\n",
    "print('Val. medie medii geom,', mean(medii_geometrice))\n",
    "print('P: ', cnt/sample_size)\n",
    " \n",
    "probabilitate_teoretica = (uniform.cdf(1.6, loc=low, scale=high-low) - uniform.cdf(1.2, loc=low, scale=high-low))**3\n",
    "print('Prob inetrval')\n",
    "print('Estimat: ', cnt_2/sample_size)\n",
    "print('Teoretic: ', probabilitate_teoretica)\n",
    "    "
   ],
   "outputs": [
    {
     "name": "stdout",
     "output_type": "stream",
     "text": [
      "[1.88042864 1.55097924 1.1287892  1.52371389 1.26963708 1.22541581]\n",
      "Val. medie medii geom, 1.4099919774217677\n",
      "P:  0.513\n",
      "Prob inetrval\n",
      "Estimat:  0.333\n",
      "Teoretic:  0.06400000000000007\n"
     ]
    }
   ],
   "execution_count": 14
  },
  {
   "metadata": {},
   "cell_type": "code",
   "outputs": [],
   "execution_count": null,
   "source": "",
   "id": "3d60ed779faca2c8"
  }
 ],
 "metadata": {
  "kernelspec": {
   "display_name": "Python 3",
   "language": "python",
   "name": "python3"
  },
  "language_info": {
   "codemirror_mode": {
    "name": "ipython",
    "version": 2
   },
   "file_extension": ".py",
   "mimetype": "text/x-python",
   "name": "python",
   "nbconvert_exporter": "python",
   "pygments_lexer": "ipython2",
   "version": "2.7.6"
  }
 },
 "nbformat": 4,
 "nbformat_minor": 5
}
