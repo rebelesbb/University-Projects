{
 "cells": [
  {
   "cell_type": "code",
   "id": "initial_id",
   "metadata": {
    "collapsed": true,
    "ExecuteTime": {
     "end_time": "2025-01-09T12:57:22.909282Z",
     "start_time": "2025-01-09T12:57:22.890457Z"
    }
   },
   "source": [
    "from scipy.stats import binom\n",
    "from numpy import random\n",
    "\n",
    "urna = [1]*7 + [0]*6\n",
    "\n",
    "X = []\n",
    "sample_size = 1000\n",
    "\n",
    "for _ in range(sample_size):\n",
    "    extragere = list(random.choice(urna, size=8, replace=True))\n",
    "    X.append(sum(extragere))\n",
    "    \n",
    "suma_3_6 = len([x for x in X if 3 < x <= 6])\n",
    "print(suma_3_6/sample_size)\n",
    "print(binom.cdf(6,8,7/13) - binom.cdf(3,8,7/13))"
   ],
   "outputs": [
    {
     "name": "stdout",
     "output_type": "stream",
     "text": [
      "0.662\n",
      "0.6616232172038055\n"
     ]
    }
   ],
   "execution_count": 4
  },
  {
   "metadata": {},
   "cell_type": "code",
   "outputs": [],
   "execution_count": null,
   "source": "",
   "id": "7368b4bcf2ae126a"
  }
 ],
 "metadata": {
  "kernelspec": {
   "display_name": "Python 3",
   "language": "python",
   "name": "python3"
  },
  "language_info": {
   "codemirror_mode": {
    "name": "ipython",
    "version": 2
   },
   "file_extension": ".py",
   "mimetype": "text/x-python",
   "name": "python",
   "nbconvert_exporter": "python",
   "pygments_lexer": "ipython2",
   "version": "2.7.6"
  }
 },
 "nbformat": 4,
 "nbformat_minor": 5
}
