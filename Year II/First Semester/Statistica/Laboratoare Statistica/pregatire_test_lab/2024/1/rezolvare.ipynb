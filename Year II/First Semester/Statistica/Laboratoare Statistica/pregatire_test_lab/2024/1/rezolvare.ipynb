{
 "cells": [
  {
   "cell_type": "code",
   "id": "initial_id",
   "metadata": {
    "collapsed": true,
    "ExecuteTime": {
     "end_time": "2025-01-09T13:38:11.674111Z",
     "start_time": "2025-01-09T13:38:11.521656Z"
    }
   },
   "source": [
    "from numpy import random\n",
    "from math import comb\n",
    "from scipy.stats import hypergeom\n",
    "\n",
    "urna = ['rosie']*7 + ['albastra']*5 + ['verde']*3\n",
    "\n",
    "# A: cel putin o bila albastra\n",
    "# B: bilele extrase au aceeasi culoare\n",
    "# C: P | A <=> daca cel putin o bila este albastra, bilele au aceeasi culoare <=> toate bilele sunt albastre\n",
    "\n",
    "# Estimare P(A):\n",
    "\n",
    "sample = []\n",
    "#sample_size = 1000\n",
    "sample_size = 10000\n",
    "cnt_A = 0\n",
    "cnt_B = 0\n",
    "cnt_C = 0\n",
    "\n",
    "for _ in range(sample_size):\n",
    "    bile_extrase = list(random.choice(urna, size=3, replace=False))\n",
    "    if bile_extrase.count('albastra') >= 1:\n",
    "        cnt_A += 1\n",
    "    if bile_extrase.count(bile_extrase[0]) == len(bile_extrase):\n",
    "        cnt_B += 1\n",
    "    if bile_extrase.count('albastra') >= 1:\n",
    "        if bile_extrase.count(bile_extrase[0]) == len(bile_extrase):\n",
    "            cnt_C += 1\n",
    "\n",
    "print('Estimare P(A): ', cnt_A/sample_size)\n",
    "print('Estimare P(B): ', cnt_B/sample_size)\n",
    "print('Estimare P(C): ', cnt_C/sample_size)\n",
    "\n",
    "print('Probabiliatati teoretice:')\n",
    "probabilitate_teoretica_A = (5 * comb(10, 2) + comb(5,2) * 10 + comb(5, 3)) / comb(15,3)\n",
    "print('P(A): ', probabilitate_teoretica_A)\n",
    "print(1 - hypergeom.cdf(0, 15, 5, 3))\n",
    "print(1 - hypergeom.pmf(0, 15, 5, 3))\n",
    "probabilitate_teoretica_B = (comb(5,3) + comb(7,3) + comb(3,3))/comb(15,3)\n",
    "print('P(B): ', probabilitate_teoretica_B)\n",
    "probabilitate_teoretica_C = comb(5, 3) / comb(15, 3) \n",
    "print('P(C): ', probabilitate_teoretica_C)\n",
    "print(hypergeom.pmf(3,15,5,3))"
   ],
   "outputs": [
    {
     "name": "stdout",
     "output_type": "stream",
     "text": [
      "Estimare P(A):  0.7414\n",
      "Estimare P(B):  0.101\n",
      "Estimare P(C):  0.0218\n",
      "Probabiliatati teoretice:\n",
      "P(A):  0.7362637362637363\n",
      "0.7362637362637363\n",
      "0.7362637362637363\n",
      "P(B):  0.1010989010989011\n",
      "P(C):  0.02197802197802198\n",
      "0.02197802197802198\n"
     ]
    }
   ],
   "execution_count": 7
  },
  {
   "metadata": {
    "ExecuteTime": {
     "end_time": "2025-01-09T11:01:03.940602Z",
     "start_time": "2025-01-09T11:01:03.273989Z"
    }
   },
   "cell_type": "code",
   "source": [
    "from scipy.stats import geom, binom\n",
    "from numpy import random\n",
    "\n",
    "zar = [1, 2, 3, 4, 5, 6]\n",
    "\n",
    "X = []\n",
    "#sample_size = 1000\n",
    "sample_size = 10000\n",
    "\n",
    "for _ in range(sample_size):\n",
    "    zar1 = 0; zar2 = 0\n",
    "    numar_aruncari = 0\n",
    "    while zar1 + zar2 != 6:\n",
    "        zar1 = random.choice(zar)\n",
    "        zar2 = random.choice(zar)\n",
    "        numar_aruncari += 1\n",
    "    X.append(numar_aruncari)\n",
    "    \n",
    "# A: X > 4\n",
    "# B: 7 <= X <= 10\n",
    "\n",
    "cnt_A = 0\n",
    "cnt_B = 0\n",
    "\n",
    "for x in X:\n",
    "    if x > 4:\n",
    "        cnt_A += 1\n",
    "    if 7 <= x <= 10:\n",
    "        cnt_B += 1\n",
    "        \n",
    "print('Estimare P(A): ', cnt_A/sample_size)\n",
    "print('Estimare P(B): ', cnt_B/sample_size)\n",
    "\n",
    "prob = 5/36\n",
    "print('Probabiliatati teoretice:')\n",
    "probabilitate_teoretica_A = 1 - geom.cdf(4, prob)\n",
    "print('P(A): ', probabilitate_teoretica_A)\n",
    "probabilitate_teoretica_B = geom.cdf(10, prob) - geom.cdf(6,prob)  \n",
    "print('P(B): ', probabilitate_teoretica_B)"
   ],
   "id": "50825125befc5528",
   "outputs": [
    {
     "name": "stdout",
     "output_type": "stream",
     "text": [
      "Estimare P(A):  0.555\n",
      "Estimare P(B):  0.1836\n",
      "Probabiliatati teoretice:\n",
      "P(A):  0.5498405587943911\n",
      "P(B):  0.18353610946743792\n"
     ]
    }
   ],
   "execution_count": 3
  },
  {
   "metadata": {},
   "cell_type": "code",
   "outputs": [],
   "execution_count": null,
   "source": "",
   "id": "41eccd9b7244f2cb"
  }
 ],
 "metadata": {
  "kernelspec": {
   "display_name": "Python 3",
   "language": "python",
   "name": "python3"
  },
  "language_info": {
   "codemirror_mode": {
    "name": "ipython",
    "version": 2
   },
   "file_extension": ".py",
   "mimetype": "text/x-python",
   "name": "python",
   "nbconvert_exporter": "python",
   "pygments_lexer": "ipython2",
   "version": "2.7.6"
  }
 },
 "nbformat": 4,
 "nbformat_minor": 5
}
