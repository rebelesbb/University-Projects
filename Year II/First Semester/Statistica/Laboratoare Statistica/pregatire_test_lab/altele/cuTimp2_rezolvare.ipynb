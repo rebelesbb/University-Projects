{
 "cells": [
  {
   "cell_type": "code",
   "id": "initial_id",
   "metadata": {
    "collapsed": true,
    "ExecuteTime": {
     "end_time": "2025-01-07T10:27:34.409561Z",
     "start_time": "2025-01-07T10:27:34.393622Z"
    }
   },
   "source": [
    "from scipy.stats import uniform, binom\n",
    "from numpy import random, mean\n",
    "\n",
    "sample_size = 1000\n",
    "w = uniform.rvs(0, 5, size=6)\n",
    "produse = []\n",
    "cnt = 0\n",
    "for _ in range(sample_size):\n",
    "    y1, y2, y3 = random.choice(w, size=3, replace=True)\n",
    "    produse.append(y1*y2*y3)\n",
    "    if y1 + y2 > y3:\n",
    "        cnt += 1\n",
    "\n",
    "print('Medie Y1 * Y2 * Y3: ', mean(produse))\n",
    "print('Estimare P(Y1 + Y2 > Y3): ', cnt/sample_size)\n",
    "\n",
    "prob = (4 - 2)/(5 - 0)\n",
    "probabilitate_teoretica_2_4 = binom.pmf(3, 6, prob)\n",
    "print(probabilitate_teoretica_2_4)"
   ],
   "outputs": [
    {
     "name": "stdout",
     "output_type": "stream",
     "text": [
      "Medie Y1 * Y2 * Y3:  3.3148928767567662\n",
      "Estimare P(Y1 + Y2 > Y3):  0.778\n",
      "0.27648000000000017\n"
     ]
    }
   ],
   "execution_count": 3
  },
  {
   "metadata": {},
   "cell_type": "code",
   "outputs": [],
   "execution_count": null,
   "source": "",
   "id": "42a2bafb8a3476f8"
  }
 ],
 "metadata": {
  "kernelspec": {
   "display_name": "Python 3",
   "language": "python",
   "name": "python3"
  },
  "language_info": {
   "codemirror_mode": {
    "name": "ipython",
    "version": 2
   },
   "file_extension": ".py",
   "mimetype": "text/x-python",
   "name": "python",
   "nbconvert_exporter": "python",
   "pygments_lexer": "ipython2",
   "version": "2.7.6"
  }
 },
 "nbformat": 4,
 "nbformat_minor": 5
}
