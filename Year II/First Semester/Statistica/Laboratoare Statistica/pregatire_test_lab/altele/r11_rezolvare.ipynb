{
 "cells": [
  {
   "cell_type": "code",
   "id": "initial_id",
   "metadata": {
    "collapsed": true,
    "ExecuteTime": {
     "end_time": "2025-01-07T10:52:19.096209Z",
     "start_time": "2025-01-07T10:52:18.862625Z"
    }
   },
   "source": [
    "from scipy.stats import expon, uniform\n",
    "from numpy import mean\n",
    "\n",
    "s1_m = 4\n",
    "s2_low = 1\n",
    "s2_high = 3\n",
    "\n",
    "# P(T <= 3) => va fi procesat de S1\n",
    "probabilitate_lt_3 = expon.cdf(3, scale=s1_m)\n",
    "print('P(T <= 3): ', probabilitate_lt_3)\n",
    "\n",
    "sample_size = 10000\n",
    "timpi = []\n",
    "for _ in range(sample_size):\n",
    "    t1 = expon.rvs(scale=s1_m)\n",
    "    if t1 > 4:\n",
    "        t2 = 4 + uniform.rvs(s2_low, s2_high)\n",
    "        timpi.append(t2)\n",
    "    else: \n",
    "        timpi.append(t1)\n",
    "print('Medie procesare mail: ', mean(timpi))\n",
    "\n",
    "timpi_lt_4 = [timp for timp in timpi if timp < 4]\n",
    "print('Estimare P(T <= 4): ', len(timpi_lt_4)/len(timpi))"
   ],
   "outputs": [
    {
     "name": "stdout",
     "output_type": "stream",
     "text": [
      "P(T <= 3):  0.5276334472589853\n",
      "Medie procesare mail:  3.4601203352197873\n",
      "Estimare P(T <= 4):  0.6271\n"
     ]
    }
   ],
   "execution_count": 2
  },
  {
   "metadata": {},
   "cell_type": "code",
   "outputs": [],
   "execution_count": null,
   "source": "",
   "id": "74b7aacc53d4e87d"
  }
 ],
 "metadata": {
  "kernelspec": {
   "display_name": "Python 3",
   "language": "python",
   "name": "python3"
  },
  "language_info": {
   "codemirror_mode": {
    "name": "ipython",
    "version": 2
   },
   "file_extension": ".py",
   "mimetype": "text/x-python",
   "name": "python",
   "nbconvert_exporter": "python",
   "pygments_lexer": "ipython2",
   "version": "2.7.6"
  }
 },
 "nbformat": 4,
 "nbformat_minor": 5
}
