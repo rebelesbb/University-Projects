{
 "cells": [
  {
   "cell_type": "code",
   "id": "initial_id",
   "metadata": {
    "collapsed": true,
    "ExecuteTime": {
     "end_time": "2025-01-07T11:31:47.186151Z",
     "start_time": "2025-01-07T11:31:47.009881Z"
    }
   },
   "source": [
    "from scipy.stats import norm, expon\n",
    "from numpy import mean\n",
    "\n",
    "s1_m = 1\n",
    "s1_sigma = 1\n",
    "s2_m = 2\n",
    "\n",
    "# P(T <= 1.5) => procesat doar de S1\n",
    "probabilitate_lt_1_5 = norm.cdf(1.5, loc=s1_m, scale=s1_sigma)\n",
    "print('P(T <= 1.5): ', probabilitate_lt_1_5)\n",
    "\n",
    "sample_size = 10000\n",
    "timpi = []\n",
    "\n",
    "for _ in range(sample_size):\n",
    "    t1 = norm.rvs(loc=s1_m, scale=s1_sigma)\n",
    "    if t1 > 2:\n",
    "        t2 = 2 + expon.rvs(scale=s2_m)\n",
    "        timpi.append(t2)\n",
    "    else:\n",
    "        timpi.append(t1)\n",
    "        \n",
    "print('Medie: ', mean(timpi))\n",
    "\n",
    "timpi_lt_4 = [timp for timp in timpi if timp <= 4]\n",
    "print('Estimare P(T <= 4): ', len(timpi_lt_4)/len(timpi))"
   ],
   "outputs": [
    {
     "name": "stdout",
     "output_type": "stream",
     "text": [
      "P(T <= 1.5):  0.6914624612740131\n",
      "Medie:  1.2275103351304926\n",
      "Estimare P(T <= 4):  0.9437\n"
     ]
    }
   ],
   "execution_count": 12
  },
  {
   "metadata": {},
   "cell_type": "code",
   "outputs": [],
   "execution_count": null,
   "source": "",
   "id": "124880d6c5113ee6"
  }
 ],
 "metadata": {
  "kernelspec": {
   "display_name": "Python 3",
   "language": "python",
   "name": "python3"
  },
  "language_info": {
   "codemirror_mode": {
    "name": "ipython",
    "version": 2
   },
   "file_extension": ".py",
   "mimetype": "text/x-python",
   "name": "python",
   "nbconvert_exporter": "python",
   "pygments_lexer": "ipython2",
   "version": "2.7.6"
  }
 },
 "nbformat": 4,
 "nbformat_minor": 5
}
