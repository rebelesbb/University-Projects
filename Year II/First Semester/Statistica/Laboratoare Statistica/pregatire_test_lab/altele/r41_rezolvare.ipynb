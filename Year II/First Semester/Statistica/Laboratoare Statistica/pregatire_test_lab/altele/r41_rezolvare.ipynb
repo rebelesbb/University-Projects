{
 "cells": [
  {
   "cell_type": "code",
   "id": "initial_id",
   "metadata": {
    "collapsed": true,
    "ExecuteTime": {
     "end_time": "2025-01-07T11:20:03.717225Z",
     "start_time": "2025-01-07T11:20:03.428338Z"
    }
   },
   "source": [
    "from numpy import random\n",
    "\n",
    "urna = ['rosie'] * 10 + ['alba'] * 3 + ['verde'] * 5\n",
    "\n",
    "# A: bilele au culorile alb, rosu, verde (in aceasta ordine)\n",
    "# B: nicio bila verde\n",
    "# C: exact o bila verde\n",
    "sample_size = 10000\n",
    "\n",
    "print('CU RETURNARE')\n",
    "\n",
    "cntA = 0\n",
    "cntB = 0\n",
    "cntC = 0\n",
    "\n",
    "for _ in range(sample_size):\n",
    "    bile = list(random.choice(urna, size=3, replace=True))\n",
    "    if bile[0] == 'alba' and bile[1] == 'rosie' and bile[2] == 'verde':\n",
    "        cntA += 1\n",
    "    if bile.count('verde') == 0:\n",
    "        cntB += 1\n",
    "    if bile.count('verde') == 1:\n",
    "        cntC += 1\n",
    "\n",
    "print(f'  P(A): {cntA / sample_size}')\n",
    "print(f'  P(B): {cntB / sample_size}')\n",
    "print(f'  P(C): {cntC / sample_size}')\n",
    "\n",
    "print('FARA RETURNARE')\n",
    "\n",
    "cntA = 0\n",
    "cntB = 0\n",
    "cntC = 0\n",
    "\n",
    "for _ in range(sample_size):\n",
    "    bile = list(random.choice(urna, size=3, replace=False))\n",
    "    if bile[0] == 'alba' and bile[1] == 'rosie' and bile[2] == 'verde':\n",
    "        cntA += 1\n",
    "    if bile.count('verde') == 0:\n",
    "        cntB += 1\n",
    "    if bile.count('verde') == 1:\n",
    "        cntC += 1\n",
    "\n",
    "print(f'  P(A): {cntA / sample_size}')\n",
    "print(f'  P(B): {cntB / sample_size}')\n",
    "print(f'  P(C): {cntC / sample_size}')"
   ],
   "outputs": [
    {
     "name": "stdout",
     "output_type": "stream",
     "text": [
      "CU RETURNARE\n",
      "  P(A): 0.0249\n",
      "  P(B): 0.3806\n",
      "  P(C): 0.432\n",
      "FARA RETURNARE\n",
      "  P(A): 0.0302\n",
      "  P(B): 0.3566\n",
      "  P(C): 0.4684\n"
     ]
    }
   ],
   "execution_count": 4
  }
 ],
 "metadata": {
  "kernelspec": {
   "display_name": "Python 3",
   "language": "python",
   "name": "python3"
  },
  "language_info": {
   "codemirror_mode": {
    "name": "ipython",
    "version": 2
   },
   "file_extension": ".py",
   "mimetype": "text/x-python",
   "name": "python",
   "nbconvert_exporter": "python",
   "pygments_lexer": "ipython2",
   "version": "2.7.6"
  }
 },
 "nbformat": 4,
 "nbformat_minor": 5
}
