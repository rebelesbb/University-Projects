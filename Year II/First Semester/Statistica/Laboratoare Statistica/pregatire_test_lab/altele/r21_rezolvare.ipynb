{
 "cells": [
  {
   "cell_type": "code",
   "id": "initial_id",
   "metadata": {
    "collapsed": true,
    "ExecuteTime": {
     "end_time": "2025-01-07T11:09:47.992418Z",
     "start_time": "2025-01-07T11:09:47.762248Z"
    }
   },
   "source": [
    "from scipy.stats import expon\n",
    "from numpy import random, mean\n",
    "\n",
    "probabilitati = [i/10 for i in range(1, 5)]\n",
    "dist = [1, 2, 3, 4]\n",
    "\n",
    "# P('S3 sau S4')\n",
    "# mailul e procesat de S3 in 3 din 10 cazuri iar de S4 in 4 din 10 cazuri => 7 c.f\n",
    "# c.p = 10\n",
    "probabilitate_s3_s4 = (3 + 4)/10\n",
    "print('P(\"S3 sau S4\"): ', probabilitate_s3_s4)\n",
    "\n",
    "sample_size = 10000\n",
    "timpi = []\n",
    "for _ in range(sample_size):\n",
    "    server = random.choice(range(1, 5), p=probabilitati)\n",
    "    timp = expon.rvs(scale=dist[server - 1])\n",
    "    timpi.append(timp)\n",
    "\n",
    "print('Medie: ', mean(timpi))\n",
    "\n",
    "timpi_gt_3 = [timp for timp in timpi if timp >= 3]\n",
    "print('Estimare P(T >= 3)', len(timpi_gt_3)/len(timpi))\n"
   ],
   "outputs": [
    {
     "name": "stdout",
     "output_type": "stream",
     "text": [
      "P(\"S3 sau S4\"):  0.7\n",
      "Medie:  2.9675169112682456\n",
      "Estimare P(T >= 3) 0.3447\n"
     ]
    }
   ],
   "execution_count": 3
  }
 ],
 "metadata": {
  "kernelspec": {
   "display_name": "Python 3",
   "language": "python",
   "name": "python3"
  },
  "language_info": {
   "codemirror_mode": {
    "name": "ipython",
    "version": 2
   },
   "file_extension": ".py",
   "mimetype": "text/x-python",
   "name": "python",
   "nbconvert_exporter": "python",
   "pygments_lexer": "ipython2",
   "version": "2.7.6"
  }
 },
 "nbformat": 4,
 "nbformat_minor": 5
}
