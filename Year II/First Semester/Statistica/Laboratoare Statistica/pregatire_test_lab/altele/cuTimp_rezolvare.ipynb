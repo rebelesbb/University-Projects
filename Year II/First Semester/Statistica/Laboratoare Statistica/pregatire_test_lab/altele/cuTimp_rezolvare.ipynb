{
 "cells": [
  {
   "cell_type": "code",
   "id": "initial_id",
   "metadata": {
    "collapsed": true,
    "ExecuteTime": {
     "end_time": "2025-01-07T10:14:12.710142Z",
     "start_time": "2025-01-07T10:14:12.703184Z"
    }
   },
   "source": [
    "from scipy.stats import uniform\n",
    "from random import sample\n",
    "from numpy import mean, abs\n",
    "\n",
    "sample_size = 1000\n",
    "\n",
    "sume = []\n",
    "diferente = []\n",
    "v = list(uniform.rvs(0, 10, size=5))\n",
    "for _ in range(sample_size):\n",
    "    x1, x2 = sample(v, 2)\n",
    "    sume.append(x1 + x2)\n",
    "    diferente.append(x1 - x2)\n",
    "\n",
    "print('Valoarea medie X1 + X2: ', mean(sume))\n",
    "\n",
    "diferente_abs_gt_2 = [diferenta for diferenta in diferente if abs(diferenta) > 2]\n",
    "print('Estimare P(|X1 - X2| > 2):', len(diferente_abs_gt_2)/sample_size)"
   ],
   "outputs": [
    {
     "name": "stdout",
     "output_type": "stream",
     "text": [
      "Valoarea medie X1 + X2:  10.98889582693252\n",
      "Estimare P(|X1 - X2| > 2): 0.701\n"
     ]
    }
   ],
   "execution_count": 16
  },
  {
   "metadata": {
    "ExecuteTime": {
     "end_time": "2025-01-07T10:17:41.784208Z",
     "start_time": "2025-01-07T10:17:41.779411Z"
    }
   },
   "cell_type": "code",
   "source": [
    "from scipy.stats import binom\n",
    "prob = (8 - 5)/(10 - 0)\n",
    "probabilitate_teoretic_5_8 = binom.pmf(2,5,prob)\n",
    "print(probabilitate_teoretic_5_8)"
   ],
   "id": "f621ca9f6000797e",
   "outputs": [
    {
     "name": "stdout",
     "output_type": "stream",
     "text": [
      "0.3086999999999998\n"
     ]
    }
   ],
   "execution_count": 17
  },
  {
   "metadata": {},
   "cell_type": "code",
   "outputs": [],
   "execution_count": null,
   "source": "",
   "id": "8261a0990867f35d"
  }
 ],
 "metadata": {
  "kernelspec": {
   "display_name": "Python 3",
   "language": "python",
   "name": "python3"
  },
  "language_info": {
   "codemirror_mode": {
    "name": "ipython",
    "version": 2
   },
   "file_extension": ".py",
   "mimetype": "text/x-python",
   "name": "python",
   "nbconvert_exporter": "python",
   "pygments_lexer": "ipython2",
   "version": "2.7.6"
  }
 },
 "nbformat": 4,
 "nbformat_minor": 5
}
