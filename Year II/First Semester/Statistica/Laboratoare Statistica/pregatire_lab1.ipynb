{
 "cells": [
  {
   "cell_type": "code",
   "id": "initial_id",
   "metadata": {
    "collapsed": true,
    "ExecuteTime": {
     "end_time": "2024-12-30T09:36:25.741724Z",
     "start_time": "2024-12-30T09:36:25.731827Z"
    }
   },
   "source": [
    "# 2\n",
    "from itertools import permutations\n",
    "\n",
    "def permutations_of(x) -> list:\n",
    "    return list(permutations(x))\n",
    "\n",
    "wordPermutations = permutations_of('word')\n",
    "print('Permutations of \"word\":')\n",
    "for prm in wordPermutations:\n",
    "    print(prm)"
   ],
   "outputs": [
    {
     "name": "stdout",
     "output_type": "stream",
     "text": [
      "Permutations of \"word\":\n",
      "('w', 'o', 'r', 'd')\n",
      "('w', 'o', 'd', 'r')\n",
      "('w', 'r', 'o', 'd')\n",
      "('w', 'r', 'd', 'o')\n",
      "('w', 'd', 'o', 'r')\n",
      "('w', 'd', 'r', 'o')\n",
      "('o', 'w', 'r', 'd')\n",
      "('o', 'w', 'd', 'r')\n",
      "('o', 'r', 'w', 'd')\n",
      "('o', 'r', 'd', 'w')\n",
      "('o', 'd', 'w', 'r')\n",
      "('o', 'd', 'r', 'w')\n",
      "('r', 'w', 'o', 'd')\n",
      "('r', 'w', 'd', 'o')\n",
      "('r', 'o', 'w', 'd')\n",
      "('r', 'o', 'd', 'w')\n",
      "('r', 'd', 'w', 'o')\n",
      "('r', 'd', 'o', 'w')\n",
      "('d', 'w', 'o', 'r')\n",
      "('d', 'w', 'r', 'o')\n",
      "('d', 'o', 'w', 'r')\n",
      "('d', 'o', 'r', 'w')\n",
      "('d', 'r', 'w', 'o')\n",
      "('d', 'r', 'o', 'w')\n"
     ]
    }
   ],
   "execution_count": 3
  },
  {
   "metadata": {
    "ExecuteTime": {
     "end_time": "2024-12-30T10:21:21.549535Z",
     "start_time": "2024-12-30T10:21:21.545649Z"
    }
   },
   "cell_type": "code",
   "source": [
    "from math import factorial, perm\n",
    "print('Number of permutations of \"word\":', end = ' ')\n",
    "print(factorial(len('word')))\n",
    "print('Number of permutations of \"word\":', end = ' ')\n",
    "print(perm(len('word'), len('word')))"
   ],
   "id": "4bc29b4bb7610123",
   "outputs": [
    {
     "name": "stdout",
     "output_type": "stream",
     "text": [
      "Number of permutations of \"word\": 24\n",
      "Number of permutations of \"word\": 24\n"
     ]
    }
   ],
   "execution_count": 37
  },
  {
   "metadata": {
    "ExecuteTime": {
     "end_time": "2024-12-30T09:40:00.334667Z",
     "start_time": "2024-12-30T09:40:00.324079Z"
    }
   },
   "cell_type": "code",
   "source": [
    "from random import sample\n",
    "print(f'Random permutation of \"word\":{sample('word',len('word'))}')"
   ],
   "id": "fbd5253a8926b039",
   "outputs": [
    {
     "name": "stdout",
     "output_type": "stream",
     "text": [
      "Random permutation of \"word\":['o', 'd', 'r', 'w']\n"
     ]
    }
   ],
   "execution_count": 9
  },
  {
   "metadata": {
    "ExecuteTime": {
     "end_time": "2024-12-30T10:14:57.278842Z",
     "start_time": "2024-12-30T10:14:57.274009Z"
    }
   },
   "cell_type": "code",
   "source": [
    "# 3 - COMBINATIONS\n",
    "from itertools import combinations\n",
    "from math import comb\n",
    "def combinations_of(x, k, total_number = False, random = False):\n",
    "    if total_number:\n",
    "        return comb(len(x), k)\n",
    "    if random:\n",
    "        indices = sample(range(len(x)), k)\n",
    "        return [x[elem] for elem in sorted(indices)]\n",
    "    return list(combinations(x, k))\n",
    "\n",
    "word = 'word'\n",
    "K = 3\n",
    "print(f'Combinations of \"{word}\":')\n",
    "for cmb in combinations_of(word, K):\n",
    "    print(cmb)\n",
    "print(f'Number of combinations of \"{word}\":', end = ' ')\n",
    "print(combinations_of(word, K, total_number = True))\n",
    "print(f'Random combination of \"{word}\":')\n",
    "print(combinations_of(word, K, random = True))"
   ],
   "id": "86d17627e8982e7e",
   "outputs": [
    {
     "name": "stdout",
     "output_type": "stream",
     "text": [
      "Combinations of \"word\":\n",
      "('w', 'o', 'r')\n",
      "('w', 'o', 'd')\n",
      "('w', 'r', 'd')\n",
      "('o', 'r', 'd')\n",
      "Number of combinations of \"word\": 4\n",
      "Random combination of \"word\":\n",
      "['w', 'o', 'r']\n"
     ]
    }
   ],
   "execution_count": 34
  },
  {
   "metadata": {
    "ExecuteTime": {
     "end_time": "2024-12-30T10:05:35.033140Z",
     "start_time": "2024-12-30T10:05:35.027759Z"
    }
   },
   "cell_type": "code",
   "source": [
    "# ARRANGEMENTS\n",
    "# we can use permutations and perm functions \n",
    "def arrangements_of(x, k, total_number = False, random = False):\n",
    "    if total_number:\n",
    "        return perm(x, k)\n",
    "    if random:\n",
    "        return sample(range(len(x)), k)\n",
    "    return list(permutations(x, k))\n",
    "\n",
    "word = 'word'\n",
    "K = 3\n",
    "print(f'Arrangements of \"{word}\":')\n",
    "for ar in arrangements_of(word, K):\n",
    "    print(ar)\n",
    "print(f'Number of arrangements of \"{word}\":', end = ' ')\n",
    "print(arrangements_of(word, K, total_number = True))\n",
    "print(f'Random arrangement of \"{word}\":')\n",
    "print(arrangements_of(word, K, random = True))"
   ],
   "id": "8c5c7a2d68b44c17",
   "outputs": [
    {
     "name": "stdout",
     "output_type": "stream",
     "text": [
      "Arrangements of \"word\":\n",
      "12\n",
      "('w', 'o')\n",
      "('w', 'r')\n",
      "('w', 'd')\n",
      "('o', 'w')\n",
      "('o', 'r')\n",
      "('o', 'd')\n",
      "('r', 'w')\n",
      "('r', 'o')\n",
      "('r', 'd')\n",
      "('d', 'w')\n",
      "('d', 'o')\n",
      "('d', 'r')\n"
     ]
    }
   ],
   "execution_count": 27
  },
  {
   "metadata": {
    "ExecuteTime": {
     "end_time": "2024-12-30T10:22:49.341976Z",
     "start_time": "2024-12-30T10:22:49.335632Z"
    }
   },
   "cell_type": "code",
   "source": [
    "from itertools import combinations_with_replacement\n",
    "word = 'ABCDE'\n",
    "K = 3\n",
    "print(f'Combinations with replacement of \"{word}\":')\n",
    "for cmb in combinations_with_replacement(word, K):\n",
    "    print(cmb)\n"
   ],
   "id": "2308264a34a0ac5d",
   "outputs": [
    {
     "name": "stdout",
     "output_type": "stream",
     "text": [
      "Combinations with replacement of \"ABCDE\":\n",
      "('A', 'A', 'A')\n",
      "('A', 'A', 'B')\n",
      "('A', 'A', 'C')\n",
      "('A', 'A', 'D')\n",
      "('A', 'A', 'E')\n",
      "('A', 'B', 'B')\n",
      "('A', 'B', 'C')\n",
      "('A', 'B', 'D')\n",
      "('A', 'B', 'E')\n",
      "('A', 'C', 'C')\n",
      "('A', 'C', 'D')\n",
      "('A', 'C', 'E')\n",
      "('A', 'D', 'D')\n",
      "('A', 'D', 'E')\n",
      "('A', 'E', 'E')\n",
      "('B', 'B', 'B')\n",
      "('B', 'B', 'C')\n",
      "('B', 'B', 'D')\n",
      "('B', 'B', 'E')\n",
      "('B', 'C', 'C')\n",
      "('B', 'C', 'D')\n",
      "('B', 'C', 'E')\n",
      "('B', 'D', 'D')\n",
      "('B', 'D', 'E')\n",
      "('B', 'E', 'E')\n",
      "('C', 'C', 'C')\n",
      "('C', 'C', 'D')\n",
      "('C', 'C', 'E')\n",
      "('C', 'D', 'D')\n",
      "('C', 'D', 'E')\n",
      "('C', 'E', 'E')\n",
      "('D', 'D', 'D')\n",
      "('D', 'D', 'E')\n",
      "('D', 'E', 'E')\n",
      "('E', 'E', 'E')\n"
     ]
    }
   ],
   "execution_count": 38
  },
  {
   "metadata": {
    "ExecuteTime": {
     "end_time": "2024-12-30T11:06:02.346627Z",
     "start_time": "2024-12-30T11:06:02.297676Z"
    }
   },
   "cell_type": "code",
   "source": [
    "# all seating options, even invalid ones\n",
    "seating_options = permutations(range(1, 13), 5)\n",
    "number_of_seating = 0\n",
    "for seating in seating_options:\n",
    "    ordered_seats = sorted(seating)\n",
    "    # we check if any two people are seated next to each other\n",
    "    i = 0; j = 1\n",
    "    # iterate ofer two seats at once while we are iterating over an existing seat and while the two consecutive seats are not both occupied\n",
    "    while j < len(ordered_seats) and ordered_seats[i] + 1 != ordered_seats[j]:\n",
    "        i += 1\n",
    "        j += 1\n",
    "    \n",
    "    # if we stopped before eaching the last existing seat\n",
    "    if j < len(ordered_seats):\n",
    "        continue\n",
    "    number_of_seating += 1\n",
    "\n",
    "print(f'Number of seatings of 5 people to 12 seats: ', number_of_seating)\n",
    "    "
   ],
   "id": "97e2b87cb5316615",
   "outputs": [
    {
     "name": "stdout",
     "output_type": "stream",
     "text": [
      "Number of seatings of 5 people to 12 seats:  6720\n"
     ]
    }
   ],
   "execution_count": 41
  },
  {
   "metadata": {
    "ExecuteTime": {
     "end_time": "2024-12-30T11:10:15.410927Z",
     "start_time": "2024-12-30T11:10:15.406645Z"
    }
   },
   "cell_type": "code",
   "source": "print(perm(8,5))",
   "id": "a548543d3d5ecddc",
   "outputs": [
    {
     "name": "stdout",
     "output_type": "stream",
     "text": [
      "6720\n"
     ]
    }
   ],
   "execution_count": 42
  },
  {
   "metadata": {},
   "cell_type": "code",
   "outputs": [],
   "execution_count": null,
   "source": "",
   "id": "fc160e6651d92965"
  }
 ],
 "metadata": {
  "kernelspec": {
   "display_name": "Python 3",
   "language": "python",
   "name": "python3"
  },
  "language_info": {
   "codemirror_mode": {
    "name": "ipython",
    "version": 2
   },
   "file_extension": ".py",
   "mimetype": "text/x-python",
   "name": "python",
   "nbconvert_exporter": "python",
   "pygments_lexer": "ipython2",
   "version": "2.7.6"
  }
 },
 "nbformat": 4,
 "nbformat_minor": 5
}
